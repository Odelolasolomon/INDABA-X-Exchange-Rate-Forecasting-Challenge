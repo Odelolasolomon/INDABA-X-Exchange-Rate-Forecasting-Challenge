{
 "cells": [
  {
   "cell_type": "markdown",
   "id": "d7f9622c-33f0-4081-915e-2ec833a8e0fd",
   "metadata": {},
   "source": [
    "- Nigerian economies rely on the dollar exchange rate to Naira, and the conversion rate has a strong influence on the Nigerian economy for things like buying goods, paying for services, doing international business, and so on. Over the years, there has been a constant fluctuation in the conversion rate, which causes a lot of dilemmas for Nigerian citizens. The challenge is open to statisticians, mathematicians, data scientists, machine learning enthusiasts, and all disciplines in the AI domain. The goal of the project is to build a time series or machine learning model that will accurately forecast what the naira rate against the dollar will be in the next 2 weeks, ranging from May 22, 2024, to June 4, 2024.\n",
    "- The Deep Learning Indaba is the annual meeting of the African machine learning and AI community. Since 2017, our mission has been to Strengthen African AI, and to ensure that Africans are owners and shapers of the coming advances in AI. As an educational charity, our work focuses on learning, teaching, research, and the role work of peer learning and community building.\n",
    "- The evaluation metric for this competition is Root Mean Squared Error.\n",
    "- Documentation : \n",
    "A README markdown file is required- \n",
    "\r\n",
    "It should cove :\r\n",
    "\r\n",
    "How to set up folders and where each file is saved\r\n",
    "Order in which to run code\r\n",
    "Explanations of features used\r\n",
    "Environment for the code to be run (conda environment.yml file or an environment.txt file)\r\n",
    "Hardware needed (e.g. Google Colab or the specifications of your local machine)\r\n",
    "Expected run time for each notebook. This will be useful to the review team for time and resource allocation.\r\n",
    "Your code needs to run properly, code reviewers do not have time to debug code. If code does not run easily you will be bumped down the leaderboard."
   ]
  },
  {
   "cell_type": "markdown",
   "id": "1fb18b18-3bd1-4582-8166-a4edbbbc18d1",
   "metadata": {},
   "source": [
    "## Data assesment and Data cleaning"
   ]
  },
  {
   "cell_type": "code",
   "execution_count": 1,
   "id": "03878a1e-094c-46d7-a518-e51c3e42af7b",
   "metadata": {},
   "outputs": [],
   "source": [
    "#install and download needed packages\n",
    "import pandas as pd\n",
    "import matplotlib.pyplot as plt\n",
    "import seaborn as sns\n",
    "import numpy as np\n",
    "import warnings\n",
    "import scipy\n",
    "from sklearn.ensemble import RandomForestRegressor, VotingRegressor, StackingRegressor, GradientBoostingRegressor\n",
    "#from catboost import CatBoostRegressor\n",
    "from xgboost import XGBRegressor\n",
    "from sklearn.preprocessing import StandardScaler\n",
    "from sklearn.metrics import mean_squared_error\n",
    "import statsmodels.api as sm\n",
    "warnings.filterwarnings('ignore') "
   ]
  },
  {
   "cell_type": "code",
   "execution_count": 2,
   "id": "9d4fa2d5-662d-492d-8353-3c85052e8e08",
   "metadata": {},
   "outputs": [],
   "source": [
    "train= pd.read_csv('Competition_data.csv')\n",
    "submission_data= pd.read_csv('submission.csv')"
   ]
  },
  {
   "cell_type": "code",
   "execution_count": 3,
   "id": "6be199c7-08da-4c9c-bae3-b8c441410d07",
   "metadata": {},
   "outputs": [
    {
     "data": {
      "text/html": [
       "<div>\n",
       "<style scoped>\n",
       "    .dataframe tbody tr th:only-of-type {\n",
       "        vertical-align: middle;\n",
       "    }\n",
       "\n",
       "    .dataframe tbody tr th {\n",
       "        vertical-align: top;\n",
       "    }\n",
       "\n",
       "    .dataframe thead th {\n",
       "        text-align: right;\n",
       "    }\n",
       "</style>\n",
       "<table border=\"1\" class=\"dataframe\">\n",
       "  <thead>\n",
       "    <tr style=\"text-align: right;\">\n",
       "      <th></th>\n",
       "      <th>Date</th>\n",
       "      <th>Close</th>\n",
       "    </tr>\n",
       "  </thead>\n",
       "  <tbody>\n",
       "    <tr>\n",
       "      <th>0</th>\n",
       "      <td>1/1/2023 23:58:00</td>\n",
       "      <td>448.08</td>\n",
       "    </tr>\n",
       "    <tr>\n",
       "      <th>1</th>\n",
       "      <td>1/2/2023 23:58:00</td>\n",
       "      <td>448.08</td>\n",
       "    </tr>\n",
       "    <tr>\n",
       "      <th>2</th>\n",
       "      <td>1/3/2023 23:58:00</td>\n",
       "      <td>448.55</td>\n",
       "    </tr>\n",
       "    <tr>\n",
       "      <th>3</th>\n",
       "      <td>1/4/2023 23:58:00</td>\n",
       "      <td>449.01</td>\n",
       "    </tr>\n",
       "    <tr>\n",
       "      <th>4</th>\n",
       "      <td>1/5/2023 23:58:00</td>\n",
       "      <td>449.53</td>\n",
       "    </tr>\n",
       "  </tbody>\n",
       "</table>\n",
       "</div>"
      ],
      "text/plain": [
       "                Date   Close\n",
       "0  1/1/2023 23:58:00  448.08\n",
       "1  1/2/2023 23:58:00  448.08\n",
       "2  1/3/2023 23:58:00  448.55\n",
       "3  1/4/2023 23:58:00  449.01\n",
       "4  1/5/2023 23:58:00  449.53"
      ]
     },
     "execution_count": 3,
     "metadata": {},
     "output_type": "execute_result"
    }
   ],
   "source": [
    "train.head()"
   ]
  },
  {
   "cell_type": "code",
   "execution_count": 4,
   "id": "c7561aef-726f-4c24-b7e4-3d6de332b98d",
   "metadata": {},
   "outputs": [
    {
     "data": {
      "text/html": [
       "<div>\n",
       "<style scoped>\n",
       "    .dataframe tbody tr th:only-of-type {\n",
       "        vertical-align: middle;\n",
       "    }\n",
       "\n",
       "    .dataframe tbody tr th {\n",
       "        vertical-align: top;\n",
       "    }\n",
       "\n",
       "    .dataframe thead th {\n",
       "        text-align: right;\n",
       "    }\n",
       "</style>\n",
       "<table border=\"1\" class=\"dataframe\">\n",
       "  <thead>\n",
       "    <tr style=\"text-align: right;\">\n",
       "      <th></th>\n",
       "      <th>Date</th>\n",
       "      <th>Close</th>\n",
       "    </tr>\n",
       "  </thead>\n",
       "  <tbody>\n",
       "    <tr>\n",
       "      <th>481</th>\n",
       "      <td>5/2/2024 23:58:00</td>\n",
       "      <td>1372.95</td>\n",
       "    </tr>\n",
       "    <tr>\n",
       "      <th>482</th>\n",
       "      <td>5/3/2024 23:58:00</td>\n",
       "      <td>1382.50</td>\n",
       "    </tr>\n",
       "    <tr>\n",
       "      <th>483</th>\n",
       "      <td>5/4/2024 23:58:00</td>\n",
       "      <td>1382.50</td>\n",
       "    </tr>\n",
       "    <tr>\n",
       "      <th>484</th>\n",
       "      <td>5/5/2024 23:58:00</td>\n",
       "      <td>1393.74</td>\n",
       "    </tr>\n",
       "    <tr>\n",
       "      <th>485</th>\n",
       "      <td>5/6/2024 23:58:00</td>\n",
       "      <td>1384.00</td>\n",
       "    </tr>\n",
       "  </tbody>\n",
       "</table>\n",
       "</div>"
      ],
      "text/plain": [
       "                  Date    Close\n",
       "481  5/2/2024 23:58:00  1372.95\n",
       "482  5/3/2024 23:58:00  1382.50\n",
       "483  5/4/2024 23:58:00  1382.50\n",
       "484  5/5/2024 23:58:00  1393.74\n",
       "485  5/6/2024 23:58:00  1384.00"
      ]
     },
     "execution_count": 4,
     "metadata": {},
     "output_type": "execute_result"
    }
   ],
   "source": [
    "train.tail()"
   ]
  },
  {
   "cell_type": "code",
   "execution_count": 5,
   "id": "f12247a5-f77c-42e8-aea5-a183dedaf454",
   "metadata": {},
   "outputs": [
    {
     "data": {
      "text/plain": [
       "(486, 2)"
      ]
     },
     "execution_count": 5,
     "metadata": {},
     "output_type": "execute_result"
    }
   ],
   "source": [
    "train.shape"
   ]
  },
  {
   "cell_type": "code",
   "execution_count": 6,
   "id": "ec9f1a25-2657-4593-b74b-11ec5657f6ed",
   "metadata": {},
   "outputs": [
    {
     "data": {
      "text/plain": [
       "Date      object\n",
       "Close    float64\n",
       "dtype: object"
      ]
     },
     "execution_count": 6,
     "metadata": {},
     "output_type": "execute_result"
    }
   ],
   "source": [
    "train.dtypes"
   ]
  },
  {
   "cell_type": "code",
   "execution_count": 7,
   "id": "9c0bc7ed-7e8c-4a77-9a4a-3579b5ef750a",
   "metadata": {},
   "outputs": [],
   "source": [
    "### Remove time\n",
    "train['Date'] = train['Date'].apply(lambda x:x.split(' ')[0])\n",
    "train['Date']=pd.to_datetime(train['Date'])"
   ]
  },
  {
   "cell_type": "code",
   "execution_count": 8,
   "id": "916a06a8-8de7-4166-813f-1eceb36055be",
   "metadata": {},
   "outputs": [
    {
     "data": {
      "text/plain": [
       "Date     datetime64[ns]\n",
       "Close           float64\n",
       "dtype: object"
      ]
     },
     "execution_count": 8,
     "metadata": {},
     "output_type": "execute_result"
    }
   ],
   "source": [
    "train.dtypes"
   ]
  },
  {
   "cell_type": "code",
   "execution_count": 9,
   "id": "d3707ab1-c062-455a-a6f6-9f2bd8d527c3",
   "metadata": {},
   "outputs": [],
   "source": [
    "train.set_index('Date', inplace=True)"
   ]
  },
  {
   "cell_type": "code",
   "execution_count": 10,
   "id": "51aee859-d815-4f4e-8d83-07a0336e0b68",
   "metadata": {},
   "outputs": [
    {
     "data": {
      "image/png": "[encoded data removed]",
      "text/plain": [
       "<Figure size 640x480 with 1 Axes>"
      ]
     },
     "metadata": {},
     "output_type": "display_data"
    }
   ],
   "source": [
    "train.plot.line(y='Close', use_index=True)\n",
    "plt.xticks(rotation=45) ;"
   ]
  },
  {
   "cell_type": "code",
   "execution_count": 11,
   "id": "ef39770b-22ce-4176-a6ce-78b06d3a4490",
   "metadata": {},
   "outputs": [
    {
     "data": {
      "text/html": [
       "<div>\n",
       "<style scoped>\n",
       "    .dataframe tbody tr th:only-of-type {\n",
       "        vertical-align: middle;\n",
       "    }\n",
       "\n",
       "    .dataframe tbody tr th {\n",
       "        vertical-align: top;\n",
       "    }\n",
       "\n",
       "    .dataframe thead th {\n",
       "        text-align: right;\n",
       "    }\n",
       "</style>\n",
       "<table border=\"1\" class=\"dataframe\">\n",
       "  <thead>\n",
       "    <tr style=\"text-align: right;\">\n",
       "      <th></th>\n",
       "      <th>Close</th>\n",
       "    </tr>\n",
       "  </thead>\n",
       "  <tbody>\n",
       "    <tr>\n",
       "      <th>count</th>\n",
       "      <td>486.000000</td>\n",
       "    </tr>\n",
       "    <tr>\n",
       "      <th>mean</th>\n",
       "      <td>801.034228</td>\n",
       "    </tr>\n",
       "    <tr>\n",
       "      <th>std</th>\n",
       "      <td>341.494007</td>\n",
       "    </tr>\n",
       "    <tr>\n",
       "      <th>min</th>\n",
       "      <td>448.080000</td>\n",
       "    </tr>\n",
       "    <tr>\n",
       "      <th>25%</th>\n",
       "      <td>461.500000</td>\n",
       "    </tr>\n",
       "    <tr>\n",
       "      <th>50%</th>\n",
       "      <td>772.105000</td>\n",
       "    </tr>\n",
       "    <tr>\n",
       "      <th>75%</th>\n",
       "      <td>895.500000</td>\n",
       "    </tr>\n",
       "    <tr>\n",
       "      <th>max</th>\n",
       "      <td>1630.660000</td>\n",
       "    </tr>\n",
       "  </tbody>\n",
       "</table>\n",
       "</div>"
      ],
      "text/plain": [
       "             Close\n",
       "count   486.000000\n",
       "mean    801.034228\n",
       "std     341.494007\n",
       "min     448.080000\n",
       "25%     461.500000\n",
       "50%     772.105000\n",
       "75%     895.500000\n",
       "max    1630.660000"
      ]
     },
     "execution_count": 11,
     "metadata": {},
     "output_type": "execute_result"
    }
   ],
   "source": [
    "train.describe()"
   ]
  },
  {
   "cell_type": "code",
   "execution_count": 12,
   "id": "b374bc6a-13e4-4e53-be18-42fb5a4f0db0",
   "metadata": {},
   "outputs": [
    {
     "data": {
      "image/png": "[encoded data removed]",
      "text/plain": [
       "<Figure size 500x300 with 1 Axes>"
      ]
     },
     "metadata": {},
     "output_type": "display_data"
    }
   ],
   "source": [
    "plt.figure(figsize=[5,3])\n",
    "sns.histplot(data=train, x='Close', bins=20, kde=True);\n"
   ]
  },
  {
   "cell_type": "code",
   "execution_count": 13,
   "id": "4e123584-14d2-4d25-baec-f5b7eb7c0921",
   "metadata": {},
   "outputs": [
    {
     "data": {
      "text/html": [
       "<div>\n",
       "<style scoped>\n",
       "    .dataframe tbody tr th:only-of-type {\n",
       "        vertical-align: middle;\n",
       "    }\n",
       "\n",
       "    .dataframe tbody tr th {\n",
       "        vertical-align: top;\n",
       "    }\n",
       "\n",
       "    .dataframe thead th {\n",
       "        text-align: right;\n",
       "    }\n",
       "</style>\n",
       "<table border=\"1\" class=\"dataframe\">\n",
       "  <thead>\n",
       "    <tr style=\"text-align: right;\">\n",
       "      <th></th>\n",
       "      <th>Close</th>\n",
       "    </tr>\n",
       "    <tr>\n",
       "      <th>Date</th>\n",
       "      <th></th>\n",
       "    </tr>\n",
       "  </thead>\n",
       "  <tbody>\n",
       "    <tr>\n",
       "      <th>2023-01-01</th>\n",
       "      <td>448.08</td>\n",
       "    </tr>\n",
       "    <tr>\n",
       "      <th>2023-01-02</th>\n",
       "      <td>448.08</td>\n",
       "    </tr>\n",
       "    <tr>\n",
       "      <th>2023-01-03</th>\n",
       "      <td>448.55</td>\n",
       "    </tr>\n",
       "    <tr>\n",
       "      <th>2023-01-04</th>\n",
       "      <td>449.01</td>\n",
       "    </tr>\n",
       "    <tr>\n",
       "      <th>2023-01-05</th>\n",
       "      <td>449.53</td>\n",
       "    </tr>\n",
       "  </tbody>\n",
       "</table>\n",
       "</div>"
      ],
      "text/plain": [
       "             Close\n",
       "Date              \n",
       "2023-01-01  448.08\n",
       "2023-01-02  448.08\n",
       "2023-01-03  448.55\n",
       "2023-01-04  449.01\n",
       "2023-01-05  449.53"
      ]
     },
     "execution_count": 13,
     "metadata": {},
     "output_type": "execute_result"
    }
   ],
   "source": [
    "train.head()"
   ]
  },
  {
   "cell_type": "code",
   "execution_count": 14,
   "id": "03af3a51-e2cf-4d8e-a49c-339edac568eb",
   "metadata": {},
   "outputs": [
    {
     "data": {
      "text/html": [
       "<div>\n",
       "<style scoped>\n",
       "    .dataframe tbody tr th:only-of-type {\n",
       "        vertical-align: middle;\n",
       "    }\n",
       "\n",
       "    .dataframe tbody tr th {\n",
       "        vertical-align: top;\n",
       "    }\n",
       "\n",
       "    .dataframe thead th {\n",
       "        text-align: right;\n",
       "    }\n",
       "</style>\n",
       "<table border=\"1\" class=\"dataframe\">\n",
       "  <thead>\n",
       "    <tr style=\"text-align: right;\">\n",
       "      <th></th>\n",
       "      <th>Close</th>\n",
       "    </tr>\n",
       "    <tr>\n",
       "      <th>Date</th>\n",
       "      <th></th>\n",
       "    </tr>\n",
       "  </thead>\n",
       "  <tbody>\n",
       "    <tr>\n",
       "      <th>2024-05-02</th>\n",
       "      <td>1372.95</td>\n",
       "    </tr>\n",
       "    <tr>\n",
       "      <th>2024-05-03</th>\n",
       "      <td>1382.50</td>\n",
       "    </tr>\n",
       "    <tr>\n",
       "      <th>2024-05-04</th>\n",
       "      <td>1382.50</td>\n",
       "    </tr>\n",
       "    <tr>\n",
       "      <th>2024-05-05</th>\n",
       "      <td>1393.74</td>\n",
       "    </tr>\n",
       "    <tr>\n",
       "      <th>2024-05-06</th>\n",
       "      <td>1384.00</td>\n",
       "    </tr>\n",
       "  </tbody>\n",
       "</table>\n",
       "</div>"
      ],
      "text/plain": [
       "              Close\n",
       "Date               \n",
       "2024-05-02  1372.95\n",
       "2024-05-03  1382.50\n",
       "2024-05-04  1382.50\n",
       "2024-05-05  1393.74\n",
       "2024-05-06  1384.00"
      ]
     },
     "execution_count": 14,
     "metadata": {},
     "output_type": "execute_result"
    }
   ],
   "source": [
    "train.tail()"
   ]
  },
  {
   "cell_type": "code",
   "execution_count": 15,
   "id": "acd9dd6f-665b-468d-9d0d-f1078425d480",
   "metadata": {},
   "outputs": [],
   "source": [
    "#train.iloc[401,:]"
   ]
  },
  {
   "cell_type": "code",
   "execution_count": 16,
   "id": "88ba627a-c47a-47ed-bb10-3f0247121043",
   "metadata": {},
   "outputs": [],
   "source": [
    "#train_data = train.loc['2023-01-01':'2024-02-09']\n",
    "#valid_data = train.loc['2024-02-10':'2024-05-06']"
   ]
  },
  {
   "cell_type": "code",
   "execution_count": 17,
   "id": "02d3c9f8-7c9f-494f-8dbe-f00eacf24463",
   "metadata": {},
   "outputs": [],
   "source": [
    "### The test set ranges from May 22 to June 4th\n",
    "#date_range = pd.date_range(start='2024-05-22', end='2024-06-04', freq='D')\n",
    "#test = pd.DataFrame(date_range, columns=['Date']) \n",
    "#test "
   ]
  },
  {
   "cell_type": "code",
   "execution_count": 18,
   "id": "d1e0a2a6-b2b2-4637-85fe-f0da51eaa9f4",
   "metadata": {},
   "outputs": [],
   "source": [
    "### Cross validation\n",
    "#train_data = train[:400] ## we use the date from January 1 2023 to April 30 2024 to train our model\n",
    "#valid_data = train[400:] ## we use the date May 1 to May 6 to validate the performance of our model"
   ]
  },
  {
   "cell_type": "code",
   "execution_count": 19,
   "id": "1be73bbd-65d2-4469-a421-eeeb79306170",
   "metadata": {},
   "outputs": [],
   "source": [
    "#train_close = train_data['Close'] ## Our target feature (Close)\n",
    "#valid_close = valid_data['Close'] "
   ]
  },
  {
   "cell_type": "markdown",
   "id": "9b3bb267-ff07-4c8b-9a56-d6af053b4de8",
   "metadata": {},
   "source": [
    "## Feature Engineering and Feature Selection"
   ]
  },
  {
   "cell_type": "markdown",
   "id": "fefabec2-e175-4622-a5ae-36f33eb9fb44",
   "metadata": {},
   "source": [
    "#add additional predictors to the model\n",
    "#calculate the mean close price in certain days and  find the ratio between today's closing price and that of the periods\n",
    "horizons = [2,5,60,250,1000]\n",
    "new_predictors = []\n",
    "\n",
    "for horizon in horizons:\n",
    "    rolling_averages = competition_data.rolling(horizon).mean()\n",
    "    \n",
    "    ratio_column = f\"Close_Ratio_{horizon}\"\n",
    "    competition_data[ratio_column] = competition_data[\"Close\"] / rolling_averages[\"Close\"]\n",
    "    \n",
    "    trend_column = f\"Trend_{horizon}\"\n",
    "    competition_data[trend_column] = competition_data.shift(1).rolling(horizon).sum()[\"Close\"]\n",
    "    \n",
    "    \n",
    "    \n",
    "    new_predictors+= [ratio_column, trend_column]"
   ]
  },
  {
   "cell_type": "code",
   "execution_count": 20,
   "id": "32958ee8-3de5-47cd-884a-d6813604bd3a",
   "metadata": {},
   "outputs": [
    {
     "data": {
      "text/plain": [
       "(486, 1)"
      ]
     },
     "execution_count": 20,
     "metadata": {},
     "output_type": "execute_result"
    }
   ],
   "source": [
    "train.shape"
   ]
  },
  {
   "cell_type": "code",
   "execution_count": 21,
   "id": "d7d57bb6-4cd7-4f1f-9723-2f72721b65d0",
   "metadata": {},
   "outputs": [],
   "source": [
    "#Create the RSI indicator\n",
    "#data['rsi' + str(n)] = talib.RSI(data['close'].values, timeperiod=horizon)\n",
    "def computeRSI (competition_data, time_window):\n",
    "    diff = competition_data.diff(1).dropna()        # diff in one field(one day)\n",
    "\n",
    "    #this preservers dimensions off diff values\n",
    "    up_chg = 0 * diff\n",
    "    down_chg = 0 * diff\n",
    "    \n",
    "    # up change is equal to the positive difference, otherwise equal to zero\n",
    "    up_chg[diff > 0] = diff[ diff>0 ]\n",
    "    \n",
    "    # down change is equal to negative deifference, otherwise equal to zero\n",
    "    down_chg[diff < 0] = diff[ diff < 0 ]\n",
    "    \n",
    "    \n",
    "    # we set com=time_window-1 so we get decay alpha=1/time_window\n",
    "    up_chg_avg   = up_chg.ewm(com=time_window-1 , min_periods=time_window).mean()\n",
    "    down_chg_avg = down_chg.ewm(com=time_window-1 , min_periods=time_window).mean()\n",
    "    \n",
    "    rs = abs(up_chg_avg/down_chg_avg)\n",
    "    rsi = 100 - 100/(1+rs)\n",
    "    return rsi"
   ]
  },
  {
   "cell_type": "code",
   "execution_count": 22,
   "id": "9d60ce34-0491-4e2c-b158-aaa312a91fd5",
   "metadata": {},
   "outputs": [],
   "source": [
    "train['RSI']= computeRSI(train['Close'], 14)"
   ]
  },
  {
   "cell_type": "code",
   "execution_count": 23,
   "id": "64058b4a-9759-460e-8c46-f3d155808615",
   "metadata": {},
   "outputs": [],
   "source": [
    "train['mom'] = train['Close'].pct_change(12) # 12 month change"
   ]
  },
  {
   "cell_type": "code",
   "execution_count": 24,
   "id": "6b666968-583f-4f73-9bd0-0298225ba709",
   "metadata": {},
   "outputs": [
    {
     "data": {
      "text/plain": [
       "(472, 3)"
      ]
     },
     "execution_count": 24,
     "metadata": {},
     "output_type": "execute_result"
    }
   ],
   "source": [
    "train=train.dropna()\n",
    "train.shape"
   ]
  },
  {
   "cell_type": "code",
   "execution_count": 25,
   "id": "821642a4-c2d0-4356-bd48-663d621a37e8",
   "metadata": {},
   "outputs": [],
   "source": [
    "train['SMA_3'] = train.iloc[:,1].rolling(window=3).mean()\n",
    "train['SMA_4'] = train.iloc[:,1].rolling(window=4).mean()\n",
    "train['EMA'] = train.iloc[:,1].ewm(span=40,adjust=False).mean()"
   ]
  },
  {
   "cell_type": "code",
   "execution_count": 26,
   "id": "4f30c12e-966d-4160-9bad-5f48126678d7",
   "metadata": {},
   "outputs": [
    {
     "data": {
      "text/plain": [
       "(469, 6)"
      ]
     },
     "execution_count": 26,
     "metadata": {},
     "output_type": "execute_result"
    }
   ],
   "source": [
    "train=train.dropna()\n",
    "train.shape"
   ]
  },
  {
   "cell_type": "code",
   "execution_count": 27,
   "id": "64371e45-959b-41a5-9736-00c67d74a6b4",
   "metadata": {},
   "outputs": [],
   "source": [
    "train['previousday']=train['Close'].shift(1)"
   ]
  },
  {
   "cell_type": "code",
   "execution_count": 28,
   "id": "99adb94b-0fd5-4c85-bd88-43d22b5a1531",
   "metadata": {},
   "outputs": [
    {
     "data": {
      "text/plain": [
       "(468, 7)"
      ]
     },
     "execution_count": 28,
     "metadata": {},
     "output_type": "execute_result"
    }
   ],
   "source": [
    "train=train.dropna()\n",
    "train.shape"
   ]
  },
  {
   "cell_type": "code",
   "execution_count": 29,
   "id": "1169a328-85b3-471c-b12f-45f76ad7c395",
   "metadata": {},
   "outputs": [
    {
     "data": {
      "text/html": [
       "<div>\n",
       "<style scoped>\n",
       "    .dataframe tbody tr th:only-of-type {\n",
       "        vertical-align: middle;\n",
       "    }\n",
       "\n",
       "    .dataframe tbody tr th {\n",
       "        vertical-align: top;\n",
       "    }\n",
       "\n",
       "    .dataframe thead th {\n",
       "        text-align: right;\n",
       "    }\n",
       "</style>\n",
       "<table border=\"1\" class=\"dataframe\">\n",
       "  <thead>\n",
       "    <tr style=\"text-align: right;\">\n",
       "      <th></th>\n",
       "      <th>Close</th>\n",
       "      <th>RSI</th>\n",
       "      <th>mom</th>\n",
       "      <th>SMA_3</th>\n",
       "      <th>SMA_4</th>\n",
       "      <th>EMA</th>\n",
       "      <th>previousday</th>\n",
       "    </tr>\n",
       "    <tr>\n",
       "      <th>Date</th>\n",
       "      <th></th>\n",
       "      <th></th>\n",
       "      <th></th>\n",
       "      <th></th>\n",
       "      <th></th>\n",
       "      <th></th>\n",
       "      <th></th>\n",
       "    </tr>\n",
       "  </thead>\n",
       "  <tbody>\n",
       "    <tr>\n",
       "      <th>2023-01-19</th>\n",
       "      <td>460.50</td>\n",
       "      <td>100.00000</td>\n",
       "      <td>0.023220</td>\n",
       "      <td>100.00000</td>\n",
       "      <td>100.000000</td>\n",
       "      <td>100.000000</td>\n",
       "      <td>453.58</td>\n",
       "    </tr>\n",
       "    <tr>\n",
       "      <th>2023-01-20</th>\n",
       "      <td>455.06</td>\n",
       "      <td>62.85955</td>\n",
       "      <td>0.011132</td>\n",
       "      <td>87.61985</td>\n",
       "      <td>90.714888</td>\n",
       "      <td>98.188271</td>\n",
       "      <td>460.50</td>\n",
       "    </tr>\n",
       "    <tr>\n",
       "      <th>2023-01-21</th>\n",
       "      <td>455.06</td>\n",
       "      <td>62.85955</td>\n",
       "      <td>0.011132</td>\n",
       "      <td>75.23970</td>\n",
       "      <td>81.429775</td>\n",
       "      <td>96.464919</td>\n",
       "      <td>455.06</td>\n",
       "    </tr>\n",
       "    <tr>\n",
       "      <th>2023-01-22</th>\n",
       "      <td>455.06</td>\n",
       "      <td>62.85955</td>\n",
       "      <td>0.011065</td>\n",
       "      <td>62.85955</td>\n",
       "      <td>72.144663</td>\n",
       "      <td>94.825632</td>\n",
       "      <td>455.06</td>\n",
       "    </tr>\n",
       "    <tr>\n",
       "      <th>2023-01-23</th>\n",
       "      <td>455.06</td>\n",
       "      <td>62.85955</td>\n",
       "      <td>0.007662</td>\n",
       "      <td>62.85955</td>\n",
       "      <td>62.859550</td>\n",
       "      <td>93.266311</td>\n",
       "      <td>455.06</td>\n",
       "    </tr>\n",
       "  </tbody>\n",
       "</table>\n",
       "</div>"
      ],
      "text/plain": [
       "             Close        RSI       mom      SMA_3       SMA_4         EMA  \\\n",
       "Date                                                                         \n",
       "2023-01-19  460.50  100.00000  0.023220  100.00000  100.000000  100.000000   \n",
       "2023-01-20  455.06   62.85955  0.011132   87.61985   90.714888   98.188271   \n",
       "2023-01-21  455.06   62.85955  0.011132   75.23970   81.429775   96.464919   \n",
       "2023-01-22  455.06   62.85955  0.011065   62.85955   72.144663   94.825632   \n",
       "2023-01-23  455.06   62.85955  0.007662   62.85955   62.859550   93.266311   \n",
       "\n",
       "            previousday  \n",
       "Date                     \n",
       "2023-01-19       453.58  \n",
       "2023-01-20       460.50  \n",
       "2023-01-21       455.06  \n",
       "2023-01-22       455.06  \n",
       "2023-01-23       455.06  "
      ]
     },
     "execution_count": 29,
     "metadata": {},
     "output_type": "execute_result"
    }
   ],
   "source": [
    "train.head()"
   ]
  },
  {
   "cell_type": "markdown",
   "id": "de2a4c3f-c305-4469-a8ff-74eebc5f5b68",
   "metadata": {},
   "source": [
    "\n",
    "# Parameters\n",
    "fast_length = 23\n",
    "slow_length = 50\n",
    "cycle_length = 10\n",
    "stochastic_length = 10\n",
    "\n",
    "def ema(series, period):\n",
    "    return series.ewm(span=period, adjust=False).mean()\n",
    "\n",
    "# Step 1: Calculate MACD line\n",
    "competition_data['EMA_fast'] = ema(competition_data['Close'], fast_length)\n",
    "competition_data['EMA_slow'] = ema(competition_data['Close'], slow_length)\n",
    "competition_data['MACD'] = competition_data['EMA_fast'] - competition_data['EMA_slow']\n",
    "\n",
    "# Step 2: Calculate MACD signal line\n",
    "competition_data['MACD_signal'] = ema(competition_data['MACD'], cycle_length)\n",
    "\n",
    "# Step 3: Calculate Stochastic %K and %D of the MACD line\n",
    "competition_data['Stochastic_K'] = ((competition_data['MACD'] - competition_data['MACD'].rolling(window=stochastic_length).min()) /\n",
    "                      (competition_data['MACD'].rolling(window=stochastic_length).max() - competition_data['MACD'].rolling(window=stochastic_length).min())) * 100\n",
    "\n",
    "competition_data['Stochastic_D'] = competition_data['Stochastic_K'].rolling(window=3).mean()  # Typically, %D is a 3-period SMA of %K\n",
    "\n",
    "# Step 4: Calculate the Schaff Trend Cycle (STC)\n",
    "competition_data['STC'] = ema(competition_data['Stochastic_D'], cycle_length)\n",
    "\n",
    "# Clean up\n",
    "competition_data.drop(['EMA_fast', 'EMA_slow', 'MACD_signal', 'Stochastic_K', 'Stochastic_D'], axis=1, inplace=True)\n",
    "\n",
    "# Display the dataframe with STC\n",
    "print(competition_data.tail(2))\n"
   ]
  },
  {
   "cell_type": "code",
   "execution_count": 30,
   "id": "e8fcb86a-d590-459b-98ac-4bc9bc4c067c",
   "metadata": {},
   "outputs": [
    {
     "data": {
      "text/plain": [
       "Index(['Close', 'RSI', 'mom', 'SMA_3', 'SMA_4', 'EMA', 'previousday'], dtype='object')"
      ]
     },
     "execution_count": 30,
     "metadata": {},
     "output_type": "execute_result"
    }
   ],
   "source": [
    "#competition_data=competition_data.dropna()\n",
    "train.columns"
   ]
  },
  {
   "cell_type": "code",
   "execution_count": 31,
   "id": "8c4078c3-c36d-46d9-ab14-8b37048aa4e9",
   "metadata": {},
   "outputs": [],
   "source": [
    "train_data = train.loc['2023-01-19':'2024-02-27']\n",
    "valid_data = train.loc['2024-02-28':'2024-05-06']"
   ]
  },
  {
   "cell_type": "code",
   "execution_count": 32,
   "id": "6b8794b7-982f-4e98-bc8d-bb8b2db5f17a",
   "metadata": {},
   "outputs": [
    {
     "data": {
      "text/plain": [
       "((401, 7), (67, 7))"
      ]
     },
     "execution_count": 32,
     "metadata": {},
     "output_type": "execute_result"
    }
   ],
   "source": [
    "train_data.shape, valid_data.shape"
   ]
  },
  {
   "cell_type": "code",
   "execution_count": 33,
   "id": "7c0d842d-926b-4c96-8705-29944efa65fc",
   "metadata": {},
   "outputs": [],
   "source": [
    "X_train = train_data.drop(columns=['Close'])\n",
    "y_train = train_data['Close']\n",
    "X_valid = valid_data.drop(columns=['Close'])\n",
    "y_valid = valid_data['Close']"
   ]
  },
  {
   "cell_type": "code",
   "execution_count": 34,
   "id": "8db5bfef-7cfd-4fab-97e6-be692515f7b2",
   "metadata": {},
   "outputs": [
    {
     "name": "stdout",
     "output_type": "stream",
     "text": [
      "(401, 6)\n",
      "(401,)\n",
      "(67, 6)\n",
      "(67,)\n"
     ]
    }
   ],
   "source": [
    "print(X_train.shape)\n",
    "print(y_train.shape)\n",
    "print(X_valid.shape)\n",
    "print(y_valid.shape)"
   ]
  },
  {
   "cell_type": "code",
   "execution_count": 35,
   "id": "f7903c03-251b-4bba-950c-7cce57a3ed70",
   "metadata": {},
   "outputs": [],
   "source": [
    "# Utility function\n",
    "from sklearn.metrics import mean_squared_error\n",
    "def evaluate_model(model, x, y):\n",
    "    \"\"\"\n",
    "    Utility function to print the model performance, (MAE and MAPE)\n",
    "    model: Fitted model\n",
    "    x:  features dataset\n",
    "    y:  target values\n",
    "    \"\"\"\n",
    "    predicted = model.predict(x) #get predictions\n",
    "    mse = mean_squared_error(y_true=y, y_pred=predicted, squared= False)\n",
    "    rmse= np.sqrt(mse)\n",
    "   \n",
    "\n",
    "    print('RMSE: {:.2f}'.format(rmse))\n",
    "    print()"
   ]
  },
  {
   "cell_type": "code",
   "execution_count": 36,
   "id": "770ef1de-5803-4b48-8821-4a439c4f2260",
   "metadata": {},
   "outputs": [
    {
     "name": "stdout",
     "output_type": "stream",
     "text": [
      "Performance of \"RF Regressor\" on Test set:\n",
      "****************\n",
      "RMSE: 10.14\n",
      "\n",
      "Performance of \"xgboost\" on Test set:\n",
      "****************\n",
      "RMSE: 11.76\n",
      "\n",
      "Performance of \"Gradient Boost\" on Test set:\n",
      "****************\n",
      "RMSE: 9.48\n",
      "\n"
     ]
    }
   ],
   "source": [
    "# creating a dictionary of Regressors to be experimented on.\n",
    "models_dict = {\n",
    "          'RF Regressor':RandomForestRegressor(random_state=0),\n",
    "          'xgboost': XGBRegressor(),'Gradient Boost': GradientBoostingRegressor(random_state=0)\n",
    "         }\n",
    "\n",
    "#looping through all the regressors, fitting and evaluating them on  test data respectively\n",
    "for key, model in models_dict.items():\n",
    "    model.fit(X_train, y_train)\n",
    "    print(f'Performance of \"{key}\" on Test set:')\n",
    "    print(\"**\"*8)\n",
    "    evaluate_model(model, X_valid, y_valid) "
   ]
  },
  {
   "cell_type": "code",
   "execution_count": null,
   "id": "3c0d215e-3c50-48e0-9e73-d39dfe017706",
   "metadata": {},
   "outputs": [],
   "source": [
    "pip install tensorflow"
   ]
  },
  {
   "cell_type": "code",
   "execution_count": 67,
   "id": "af128341-bb1d-4bf8-b7cb-587e359eee04",
   "metadata": {},
   "outputs": [
    {
     "ename": "ModuleNotFoundError",
     "evalue": "No module named 'tensorflow'",
     "output_type": "error",
     "traceback": [
      "\u001b[1;31m---------------------------------------------------------------------------\u001b[0m",
      "\u001b[1;31mModuleNotFoundError\u001b[0m                       Traceback (most recent call last)",
      "Cell \u001b[1;32mIn[67], line 1\u001b[0m\n\u001b[1;32m----> 1\u001b[0m \u001b[38;5;28;01mfrom\u001b[39;00m \u001b[38;5;21;01mtensorflow\u001b[39;00m\u001b[38;5;21;01m.\u001b[39;00m\u001b[38;5;21;01mkeras\u001b[39;00m\u001b[38;5;21;01m.\u001b[39;00m\u001b[38;5;21;01mmodels\u001b[39;00m \u001b[38;5;28;01mimport\u001b[39;00m Sequential\n\u001b[0;32m      2\u001b[0m \u001b[38;5;28;01mfrom\u001b[39;00m \u001b[38;5;21;01mtensorflow\u001b[39;00m\u001b[38;5;21;01m.\u001b[39;00m\u001b[38;5;21;01mkeras\u001b[39;00m\u001b[38;5;21;01m.\u001b[39;00m\u001b[38;5;21;01mlayers\u001b[39;00m \u001b[38;5;28;01mimport\u001b[39;00m LSTM, Dense\n\u001b[0;32m      3\u001b[0m \u001b[38;5;28;01mfrom\u001b[39;00m \u001b[38;5;21;01mtensorflow\u001b[39;00m\u001b[38;5;21;01m.\u001b[39;00m\u001b[38;5;21;01mkeras\u001b[39;00m\u001b[38;5;21;01m.\u001b[39;00m\u001b[38;5;21;01mwrappers\u001b[39;00m\u001b[38;5;21;01m.\u001b[39;00m\u001b[38;5;21;01mscikit_learn\u001b[39;00m \u001b[38;5;28;01mimport\u001b[39;00m KerasRegressor\n",
      "\u001b[1;31mModuleNotFoundError\u001b[0m: No module named 'tensorflow'"
     ]
    }
   ],
   "source": [
    "# List of machine learning algorithms to consider\n",
    "from sklearn.neural_network import MLPRegressor\n",
    "from sklearn.linear_model import LinearRegression, Ridge, Lasso, ElasticNet \n",
    "algorithms = [\n",
    "    ('Linear regression', LinearRegression(), {}),\n",
    "    ('Ridge', Ridge(), {}),\n",
    "    ('Lasso', Lasso(), {}),\n",
    "    ('Elastic Net', ElasticNet(), {}),\n",
    "    ('MLP', MLPRegressor(), {})\n",
    "]\n",
    "\n",
    "# Train base models\n",
    "base_models = {}\n",
    "for algorithm_name, algorithm, _ in algorithms:\n",
    "    print(algorithm)\n",
    "    model = algorithm\n",
    "    model.fit(X_train, y_train)\n",
    "    base_models[algorithm_name] = model\n",
    "\n",
    "eval_metrics = ['rmse']\n",
    "results = pd.DataFrame(columns=['Algorithm'] + eval_metrics)\n",
    "\n",
    "for algorithm_name, model in base_models.items():\n",
    "    y_pred = model.predict(X_valid)\n",
    "    mse= mean_squared_error(y_valid, y_pred, squared=False)\n",
    "    rmse= np.sqrt(mse)\n",
    "    \n",
    "# Ensembling using Stacking\n",
    "meta_model = Ridge()\n",
    "stacking_model = StackingRegressor(estimators=list(base_models.items()), final_estimator=meta_model)\n",
    "stacking_model.fit(X_train, y_train)\n",
    "stacking_y_pred = stacking_model.predict(X_valid)\n",
    "stacking_mse =  mean_squared_error(y_valid, stacking_y_pred, squared= False)\n",
    "stacking_rmse = np.sqrt(stacking_mse)\n",
    "\n",
    "print(f\"Stacking Ensemble Method Performance Metrics \\n\\n \\\n",
    "stacking rmse: {stacking_rmse} \\n\")"
   ]
  },
  {
   "cell_type": "code",
   "execution_count": 38,
   "id": "b5ad24bc-1bb0-49d0-ba61-21995927cc4d",
   "metadata": {},
   "outputs": [
    {
     "data": {
      "text/html": [
       "<div>\n",
       "<style scoped>\n",
       "    .dataframe tbody tr th:only-of-type {\n",
       "        vertical-align: middle;\n",
       "    }\n",
       "\n",
       "    .dataframe tbody tr th {\n",
       "        vertical-align: top;\n",
       "    }\n",
       "\n",
       "    .dataframe thead th {\n",
       "        text-align: right;\n",
       "    }\n",
       "</style>\n",
       "<table border=\"1\" class=\"dataframe\">\n",
       "  <thead>\n",
       "    <tr style=\"text-align: right;\">\n",
       "      <th></th>\n",
       "      <th>RSI</th>\n",
       "      <th>mom</th>\n",
       "      <th>SMA_3</th>\n",
       "      <th>SMA_4</th>\n",
       "      <th>EMA</th>\n",
       "      <th>previousday</th>\n",
       "    </tr>\n",
       "    <tr>\n",
       "      <th>Date</th>\n",
       "      <th></th>\n",
       "      <th></th>\n",
       "      <th></th>\n",
       "      <th></th>\n",
       "      <th></th>\n",
       "      <th></th>\n",
       "    </tr>\n",
       "  </thead>\n",
       "  <tbody>\n",
       "    <tr>\n",
       "      <th>2023-01-19</th>\n",
       "      <td>100.00000</td>\n",
       "      <td>0.023220</td>\n",
       "      <td>100.00000</td>\n",
       "      <td>100.000000</td>\n",
       "      <td>100.000000</td>\n",
       "      <td>453.58</td>\n",
       "    </tr>\n",
       "    <tr>\n",
       "      <th>2023-01-20</th>\n",
       "      <td>62.85955</td>\n",
       "      <td>0.011132</td>\n",
       "      <td>87.61985</td>\n",
       "      <td>90.714888</td>\n",
       "      <td>98.188271</td>\n",
       "      <td>460.50</td>\n",
       "    </tr>\n",
       "    <tr>\n",
       "      <th>2023-01-21</th>\n",
       "      <td>62.85955</td>\n",
       "      <td>0.011132</td>\n",
       "      <td>75.23970</td>\n",
       "      <td>81.429775</td>\n",
       "      <td>96.464919</td>\n",
       "      <td>455.06</td>\n",
       "    </tr>\n",
       "    <tr>\n",
       "      <th>2023-01-22</th>\n",
       "      <td>62.85955</td>\n",
       "      <td>0.011065</td>\n",
       "      <td>62.85955</td>\n",
       "      <td>72.144663</td>\n",
       "      <td>94.825632</td>\n",
       "      <td>455.06</td>\n",
       "    </tr>\n",
       "    <tr>\n",
       "      <th>2023-01-23</th>\n",
       "      <td>62.85955</td>\n",
       "      <td>0.007662</td>\n",
       "      <td>62.85955</td>\n",
       "      <td>62.859550</td>\n",
       "      <td>93.266311</td>\n",
       "      <td>455.06</td>\n",
       "    </tr>\n",
       "  </tbody>\n",
       "</table>\n",
       "</div>"
      ],
      "text/plain": [
       "                  RSI       mom      SMA_3       SMA_4         EMA  \\\n",
       "Date                                                                 \n",
       "2023-01-19  100.00000  0.023220  100.00000  100.000000  100.000000   \n",
       "2023-01-20   62.85955  0.011132   87.61985   90.714888   98.188271   \n",
       "2023-01-21   62.85955  0.011132   75.23970   81.429775   96.464919   \n",
       "2023-01-22   62.85955  0.011065   62.85955   72.144663   94.825632   \n",
       "2023-01-23   62.85955  0.007662   62.85955   62.859550   93.266311   \n",
       "\n",
       "            previousday  \n",
       "Date                     \n",
       "2023-01-19       453.58  \n",
       "2023-01-20       460.50  \n",
       "2023-01-21       455.06  \n",
       "2023-01-22       455.06  \n",
       "2023-01-23       455.06  "
      ]
     },
     "execution_count": 38,
     "metadata": {},
     "output_type": "execute_result"
    }
   ],
   "source": [
    "X_train.head()"
   ]
  },
  {
   "cell_type": "code",
   "execution_count": 39,
   "id": "3afef73b-7b28-445b-a9c3-fb4bc47c5d95",
   "metadata": {},
   "outputs": [
    {
     "data": {
      "text/plain": [
       "Index(['RSI', 'mom', 'SMA_3', 'SMA_4', 'EMA', 'previousday'], dtype='object')"
      ]
     },
     "execution_count": 39,
     "metadata": {},
     "output_type": "execute_result"
    }
   ],
   "source": [
    "X_train.columns"
   ]
  },
  {
   "cell_type": "code",
   "execution_count": 40,
   "id": "478d72d3-3e61-433e-a7a2-e0c5942d23dc",
   "metadata": {},
   "outputs": [
    {
     "data": {
      "text/html": [
       "<div>\n",
       "<style scoped>\n",
       "    .dataframe tbody tr th:only-of-type {\n",
       "        vertical-align: middle;\n",
       "    }\n",
       "\n",
       "    .dataframe tbody tr th {\n",
       "        vertical-align: top;\n",
       "    }\n",
       "\n",
       "    .dataframe thead th {\n",
       "        text-align: right;\n",
       "    }\n",
       "</style>\n",
       "<table border=\"1\" class=\"dataframe\">\n",
       "  <thead>\n",
       "    <tr style=\"text-align: right;\">\n",
       "      <th></th>\n",
       "    </tr>\n",
       "    <tr>\n",
       "      <th>Date</th>\n",
       "    </tr>\n",
       "  </thead>\n",
       "  <tbody>\n",
       "    <tr>\n",
       "      <th>2024-05-22</th>\n",
       "    </tr>\n",
       "    <tr>\n",
       "      <th>2024-05-23</th>\n",
       "    </tr>\n",
       "    <tr>\n",
       "      <th>2024-05-24</th>\n",
       "    </tr>\n",
       "    <tr>\n",
       "      <th>2024-05-25</th>\n",
       "    </tr>\n",
       "    <tr>\n",
       "      <th>2024-05-26</th>\n",
       "    </tr>\n",
       "    <tr>\n",
       "      <th>2024-05-27</th>\n",
       "    </tr>\n",
       "    <tr>\n",
       "      <th>2024-05-28</th>\n",
       "    </tr>\n",
       "    <tr>\n",
       "      <th>2024-05-29</th>\n",
       "    </tr>\n",
       "    <tr>\n",
       "      <th>2024-05-30</th>\n",
       "    </tr>\n",
       "    <tr>\n",
       "      <th>2024-05-31</th>\n",
       "    </tr>\n",
       "    <tr>\n",
       "      <th>2024-06-01</th>\n",
       "    </tr>\n",
       "    <tr>\n",
       "      <th>2024-06-02</th>\n",
       "    </tr>\n",
       "    <tr>\n",
       "      <th>2024-06-03</th>\n",
       "    </tr>\n",
       "    <tr>\n",
       "      <th>2024-06-04</th>\n",
       "    </tr>\n",
       "  </tbody>\n",
       "</table>\n",
       "</div>"
      ],
      "text/plain": [
       "Empty DataFrame\n",
       "Columns: []\n",
       "Index: [2024-05-22 00:00:00, 2024-05-23 00:00:00, 2024-05-24 00:00:00, 2024-05-25 00:00:00, 2024-05-26 00:00:00, 2024-05-27 00:00:00, 2024-05-28 00:00:00, 2024-05-29 00:00:00, 2024-05-30 00:00:00, 2024-05-31 00:00:00, 2024-06-01 00:00:00, 2024-06-02 00:00:00, 2024-06-03 00:00:00, 2024-06-04 00:00:00]"
      ]
     },
     "execution_count": 40,
     "metadata": {},
     "output_type": "execute_result"
    }
   ],
   "source": [
    "# Create test set for the forecast period (May 22 to June 4, 2024)\n",
    "date_range = pd.date_range(start='2024-05-22', end='2024-06-04', freq='D')\n",
    "test = pd.DataFrame(date_range, columns=['Date'])\n",
    "#future_df['RSI'] = [i.RSI for i in future_dates]\n",
    "test.set_index('Date', inplace=True)\n",
    "test"
   ]
  },
  {
   "cell_type": "code",
   "execution_count": 65,
   "id": "6426742e-b916-4848-aa3e-a31c89a51bf1",
   "metadata": {},
   "outputs": [
    {
     "name": "stdout",
     "output_type": "stream",
     "text": [
      "         Date        Close\n",
      "0  2024-05-22      4247.90\n",
      "1  2024-05-23      8359.93\n",
      "2  2024-05-24     16310.07\n",
      "3  2024-05-25     33254.83\n",
      "4  2024-05-26     66994.41\n",
      "5  2024-05-27    134762.61\n",
      "6  2024-05-28    271544.17\n",
      "7  2024-05-29    546968.51\n",
      "8  2024-05-30   1101644.36\n",
      "9  2024-05-31   2218947.65\n",
      "10 2024-06-01   4469394.88\n",
      "11 2024-06-02   9002188.48\n",
      "12 2024-06-03  18132108.68\n",
      "13 2024-06-04  36521483.37\n"
     ]
    }
   ],
   "source": [
    "\n",
    "\n",
    "# Define your feature columns, including 'lag_1', 'lag_2', 'lag_3', and any other features used during training\n",
    "feature_cols = ['lag_1', 'lag_2', 'lag_3', 'RSI', 'mom', 'SMA_3', 'SMA_4', 'EMA', 'previousday']\n",
    "\n",
    "# Create lag features for training data\n",
    "for i in range(1, 4):\n",
    "    train[f'lag_{i}'] = train['Close'].shift(i)\n",
    "\n",
    "# Drop rows with NaN values generated by shifting and rolling\n",
    "train = train.dropna()\n",
    "\n",
    "# Split the data into training and validation sets\n",
    "train_data = train.loc['2023-01-19':'2024-02-27']\n",
    "valid_data = train.loc['2024-02-28':'2024-05-06']\n",
    "\n",
    "# Split train into X and y\n",
    "X_train = train_data[feature_cols]\n",
    "y_train = train_data['Close']\n",
    "X_valid = valid_data[feature_cols]\n",
    "y_valid = valid_data['Close']\n",
    "\n",
    "# Assuming stacking_model is already defined and fitted\n",
    "# stacking_model = StackingRegressor(estimators=estimators, final_estimator=LinearRegression())\n",
    "stacking_model.fit(X_train, y_train)\n",
    "\n",
    "# Create test set for the forecast period (May 22 to June 4, 2024)\n",
    "date_range = pd.date_range(start='2024-05-22', end='2024-06-04', freq='D')\n",
    "test = pd.DataFrame(date_range, columns=['Date'])\n",
    "test.set_index('Date', inplace=True)\n",
    "\n",
    "# Initialize the test DataFrame with the last available data\n",
    "last_data = train.iloc[-3:]  # Get the last 3 rows (for lag features)\n",
    "test_features = []\n",
    "\n",
    "# Helper function to compute RSI\n",
    "def computeRSI(series, period):\n",
    "    delta = series.diff()\n",
    "    gain = (delta.where(delta > 0, 0)).rolling(window=period).mean()\n",
    "    loss = (-delta.where(delta < 0, 0)).rolling(window=period).mean()\n",
    "    RS = gain / loss\n",
    "    RSI = 100 - (100 / (1 + RS))\n",
    "    return RSI.iloc[-1] if not RSI.empty else 0\n",
    "\n",
    "# Generate lag features for the forecast period dynamically\n",
    "for date in test.index:\n",
    "    last_close = last_data['Close'].values\n",
    "    new_row = {\n",
    "        'lag_1': last_close[-1],\n",
    "        'lag_2': last_close[-2],\n",
    "        'lag_3': last_close[-3],\n",
    "        'RSI': computeRSI(last_data['Close'], 14),\n",
    "        'mom': last_data['Close'].pct_change(12).iloc[-1] if not last_data['Close'].pct_change(12).dropna().empty else 0,\n",
    "        'SMA_3': last_data['Close'].rolling(window=3).mean().iloc[-1] if not last_data['Close'].rolling(window=3).mean().dropna().empty else 0,\n",
    "        'SMA_4': last_data['Close'].rolling(window=4).mean().iloc[-1] if not last_data['Close'].rolling(window=4).mean().dropna().empty else 0,\n",
    "        'EMA': last_data['Close'].ewm(span=3, adjust=False).mean().iloc[-1] if not last_data['Close'].ewm(span=3, adjust=False).mean().dropna().empty else 0,\n",
    "        'previousday': last_close[-1]\n",
    "    }\n",
    "\n",
    "    # Ensure there are no NaN values in the new_row\n",
    "    new_row = {k: (v if pd.notna(v) else 0) for k, v in new_row.items()}\n",
    "\n",
    "    test_features.append(new_row)\n",
    "    # Update last_data with the new predicted value\n",
    "    new_row_df = pd.DataFrame([new_row]).fillna(0)\n",
    "    new_prediction = stacking_model.predict(new_row_df)[0]\n",
    "    new_data = pd.DataFrame({'Close': [new_prediction]}, index=[date])\n",
    "    last_data = pd.concat([last_data, new_data]).iloc[1:]  # Keep the last 3 rows only\n",
    "\n",
    "# Convert test_features to DataFrame\n",
    "test_features = pd.DataFrame(test_features, index=test.index)\n",
    "\n",
    "# Ensure there are no NaN values in the test_features DataFrame\n",
    "test_features = test_features.fillna(0)\n",
    "\n",
    "# Make predictions for the forecast period\n",
    "predictions = stacking_model.predict(test_features)\n",
    "\n",
    "# Create submission DataFrame\n",
    "submission = test.copy()\n",
    "submission['Close'] = predictions.round(2)\n",
    "\n",
    "# Save the submission\n",
    "submission.reset_index(inplace=True)\n",
    "submission.to_csv('base3.csv', index=False)\n",
    "\n",
    "print(submission)\n"
   ]
  },
  {
   "cell_type": "code",
   "execution_count": null,
   "id": "6aa68d02-1d93-4226-9366-1ee74c90e981",
   "metadata": {},
   "outputs": [],
   "source": [
    "# Convert test_features to DataFrame\n",
    "test_features = pd.DataFrame(test_features, index=test.index)\n",
    "\n",
    "# Make predictions for the forecast period\n",
    "predictions = stacking_model.predict(test_features)\n",
    "\n",
    "# Create submission DataFrame\n",
    "submission = test.copy()\n",
    "submission['Close'] = predictions.round(2)\n",
    "\n",
    "# Save the submission\n",
    "submission.reset_index(inplace=True)\n",
    "submission.to_csv('base3.csv', index=False)\n",
    "\n",
    "print(submission)"
   ]
  },
  {
   "cell_type": "code",
   "execution_count": null,
   "id": "ffd883cc-4ed9-4b5c-bd23-ac735882e0de",
   "metadata": {},
   "outputs": [],
   "source": []
  }
 ],
 "metadata": {
  "kernelspec": {
   "display_name": "Python 3 (ipykernel)",
   "language": "python",
   "name": "python3"
  },
  "language_info": {
   "codemirror_mode": {
    "name": "ipython",
    "version": 3
   },
   "file_extension": ".py",
   "mimetype": "text/x-python",
   "name": "python",
   "nbconvert_exporter": "python",
   "pygments_lexer": "ipython3",
   "version": "3.11.7"
  }
 },
 "nbformat": 4,
 "nbformat_minor": 5
}
